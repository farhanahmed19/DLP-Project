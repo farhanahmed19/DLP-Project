{
  "nbformat": 4,
  "nbformat_minor": 0,
  "metadata": {
    "colab": {
      "provenance": [],
      "gpuType": "T4"
    },
    "kernelspec": {
      "name": "python3",
      "display_name": "Python 3"
    },
    "language_info": {
      "name": "python"
    },
    "accelerator": "GPU"
  },
  "cells": [
    {
      "cell_type": "markdown",
      "source": [
        "**Movie Recommendation System - Collaborative Denoising Auto-Encoders**"
      ],
      "metadata": {
        "id": "G7XO-BC6psEZ"
      }
    },
    {
      "cell_type": "code",
      "execution_count": null,
      "metadata": {
        "colab": {
          "base_uri": "https://localhost:8080/"
        },
        "id": "X8D_j0xcUYzI",
        "outputId": "6d637b72-e04b-45fe-95d8-e05f3ad7203e"
      },
      "outputs": [
        {
          "output_type": "stream",
          "name": "stdout",
          "text": [
            "Mounted at /content/drive\n",
            "Using device: cuda\n"
          ]
        }
      ],
      "source": [
        "# ===== Block 1: Setup Environment =====\n",
        "\n",
        "import numpy as np\n",
        "import pandas as pd\n",
        "import os\n",
        "import torch\n",
        "import torch.nn as nn\n",
        "import torch.optim as optim\n",
        "from torch.utils.data import DataLoader, Dataset\n",
        "from sklearn.model_selection import train_test_split\n",
        "from scipy import sparse\n",
        "import random\n",
        "\n",
        "# Mount Google Drive\n",
        "from google.colab import drive\n",
        "drive.mount('/content/drive')\n",
        "\n",
        "# Fix random seeds for reproducibility\n",
        "def set_seed(seed=42):\n",
        "    np.random.seed(seed)\n",
        "    random.seed(seed)\n",
        "    torch.manual_seed(seed)\n",
        "    torch.cuda.manual_seed(seed)\n",
        "    torch.backends.cudnn.deterministic = True\n",
        "    torch.backends.cudnn.benchmark = False\n",
        "\n",
        "set_seed(42)\n",
        "\n",
        "# Check device\n",
        "device = torch.device('cuda' if torch.cuda.is_available() else 'cpu')\n",
        "print(\"Using device:\", device)\n"
      ]
    },
    {
      "cell_type": "code",
      "source": [
        "# ===== Block 2: Data Download and Preprocessing =====\n",
        "\n",
        "import pandas as pd\n",
        "import numpy as np\n",
        "from scipy import sparse\n",
        "import os\n",
        "\n",
        "# Step 1: Download MovieLens 25M dataset\n",
        "!wget -q --show-progress https://files.grouplens.org/datasets/movielens/ml-25m.zip\n",
        "!unzip -q ml-25m.zip\n",
        "\n",
        "# Step 2: Load ratings.csv\n",
        "ratings = pd.read_csv('ml-25m/ratings.csv')\n",
        "\n",
        "# Step 3: Filter users with at least 5 ratings\n",
        "user_counts = ratings['userId'].value_counts()\n",
        "filtered_users = user_counts[user_counts >= 5].index\n",
        "ratings = ratings[ratings['userId'].isin(filtered_users)]\n",
        "\n",
        "# Step 4: Map userId and movieId to continuous indices\n",
        "user2idx = {user_id: idx for idx, user_id in enumerate(ratings['userId'].unique())}\n",
        "item2idx = {item_id: idx for idx, item_id in enumerate(ratings['movieId'].unique())}\n",
        "\n",
        "ratings['userId'] = ratings['userId'].map(user2idx)\n",
        "ratings['movieId'] = ratings['movieId'].map(item2idx)\n",
        "\n",
        "num_users = ratings['userId'].nunique()\n",
        "num_items = ratings['movieId'].nunique()\n",
        "\n",
        "print(f\"Total users: {num_users}, Total items: {num_items}\")\n",
        "\n",
        "# Step 5: Create Interaction Matrix\n",
        "interaction_matrix = sparse.lil_matrix((num_users, num_items))\n",
        "for row in ratings.itertuples():\n",
        "    interaction_matrix[row.userId, row.movieId] = 1\n",
        "\n",
        "# Step 6: Save Interaction Matrix\n",
        "os.makedirs('/content/drive/MyDrive/CDAE_Final_Model', exist_ok=True)\n",
        "sparse.save_npz('/content/drive/MyDrive/CDAE_Final_Model/interaction_matrix.npz', interaction_matrix.tocsr())\n",
        "\n",
        "print(\"Interaction matrix saved successfully at /content/drive/MyDrive/CDAE_Final_Model/interaction_matrix.npz\")\n"
      ],
      "metadata": {
        "colab": {
          "base_uri": "https://localhost:8080/"
        },
        "id": "5wzv4aTTWH9g",
        "outputId": "d41a8347-0fc5-4bad-8c2e-30c3b49ed234"
      },
      "execution_count": null,
      "outputs": [
        {
          "output_type": "stream",
          "name": "stdout",
          "text": [
            "ml-25m.zip.1        100%[===================>] 249.84M  81.3MB/s    in 3.1s    \n",
            "replace ml-25m/tags.csv? [y]es, [n]o, [A]ll, [N]one, [r]ename: A\n",
            "Total users: 162541, Total items: 59047\n",
            "Interaction matrix saved successfully at /content/drive/MyDrive/CDAE_Final_Model/interaction_matrix.npz\n"
          ]
        }
      ]
    },
    {
      "cell_type": "code",
      "source": [
        "# ===== Block 3: Model Definition (CDAE) =====\n",
        "\n",
        "class CDAE(nn.Module):\n",
        "    def __init__(self, num_users, num_items, embedding_dim=200, dropout_rate=0.5):\n",
        "        super(CDAE, self).__init__()\n",
        "        self.num_users = num_users\n",
        "        self.num_items = num_items\n",
        "        self.embedding_dim = embedding_dim\n",
        "\n",
        "        # User embedding\n",
        "        self.user_embedding = nn.Embedding(num_users, embedding_dim)\n",
        "\n",
        "        # Encoder\n",
        "        self.encoder = nn.Linear(num_items, embedding_dim)\n",
        "\n",
        "        # Decoder\n",
        "        self.decoder = nn.Linear(embedding_dim, num_items)\n",
        "\n",
        "        # Dropout\n",
        "        self.dropout = nn.Dropout(dropout_rate)\n",
        "\n",
        "    def forward(self, x, user_id):\n",
        "        user_emb = self.user_embedding(user_id)\n",
        "        x = self.dropout(x)\n",
        "        x = self.encoder(x)\n",
        "        x = x + user_emb\n",
        "        x = torch.sigmoid(x)\n",
        "        x = self.decoder(x)\n",
        "        x = torch.sigmoid(x)\n",
        "        return x\n"
      ],
      "metadata": {
        "id": "Uj84SxmjW18n"
      },
      "execution_count": null,
      "outputs": []
    },
    {
      "cell_type": "code",
      "source": [
        "# ===== Block 4: Training Setup =====\n",
        "\n",
        "from torch.utils.data import Dataset, DataLoader\n",
        "\n",
        "# Dataset Class\n",
        "class InteractionDataset(Dataset):\n",
        "    def __init__(self, interaction_matrix):\n",
        "        self.interactions = interaction_matrix\n",
        "\n",
        "    def __len__(self):\n",
        "        return self.interactions.shape[0]\n",
        "\n",
        "    def __getitem__(self, idx):\n",
        "        return torch.FloatTensor(self.interactions[idx].toarray().flatten()), torch.LongTensor([idx])\n",
        "\n",
        "# Load saved interaction matrix\n",
        "from scipy import sparse\n",
        "interaction_matrix = sparse.load_npz('/content/drive/MyDrive/CDAE_Final_Model/interaction_matrix.npz')\n",
        "\n",
        "# Create train-validation split\n",
        "full_dataset = InteractionDataset(interaction_matrix)\n",
        "\n",
        "train_size = int(0.9 * len(full_dataset))\n",
        "val_size = len(full_dataset) - train_size\n",
        "train_dataset, val_dataset = torch.utils.data.random_split(full_dataset, [train_size, val_size])\n",
        "\n",
        "train_loader = DataLoader(train_dataset, batch_size=512, shuffle=True)\n",
        "validation_loader = DataLoader(val_dataset, batch_size=512, shuffle=False)\n",
        "\n",
        "# Initialize model, optimizer, scheduler\n",
        "device = torch.device('cuda' if torch.cuda.is_available() else 'cpu')\n",
        "model = CDAE(num_users=num_users, num_items=num_items).to(device)\n",
        "optimizer = optim.AdamW(model.parameters(), lr=0.001, weight_decay=1e-5)\n",
        "scheduler = optim.lr_scheduler.StepLR(optimizer, step_size=30, gamma=0.5)\n",
        "\n",
        "# Loss Function\n",
        "criterion = nn.BCELoss()\n"
      ],
      "metadata": {
        "id": "sijOkqhhW37h"
      },
      "execution_count": null,
      "outputs": []
    },
    {
      "cell_type": "code",
      "source": [
        "!pip install tqdm\n"
      ],
      "metadata": {
        "colab": {
          "base_uri": "https://localhost:8080/"
        },
        "id": "ohN1KjJUbzEA",
        "outputId": "e0c55182-d200-4a91-8d57-f88cff46f756"
      },
      "execution_count": null,
      "outputs": [
        {
          "output_type": "stream",
          "name": "stdout",
          "text": [
            "Requirement already satisfied: tqdm in /usr/local/lib/python3.11/dist-packages (4.67.1)\n"
          ]
        }
      ]
    },
    {
      "cell_type": "code",
      "source": [
        "# ===== Block 5: Training Loop with Evaluation and Progress Bar =====\n",
        "\n",
        "import os\n",
        "import numpy as np\n",
        "from tqdm import tqdm  # <-- Progress bar import\n",
        "\n",
        "# ===== Setup paths =====\n",
        "checkpoint_dir = '/content/drive/MyDrive/CDAE_Checkpoints'\n",
        "final_model_dir = '/content/drive/MyDrive/CDAE_Final_Model'\n",
        "os.makedirs(checkpoint_dir, exist_ok=True)\n",
        "os.makedirs(final_model_dir, exist_ok=True)\n",
        "\n",
        "# ===== Define evaluation metrics =====\n",
        "def recall_at_k(predictions, ground_truth, k=10):\n",
        "    top_k = predictions.topk(k, dim=1)[1]\n",
        "    correct = (ground_truth.gather(1, top_k) > 0).float()\n",
        "    recall = correct.sum(1) / torch.clamp(ground_truth.sum(1), min=1.0)\n",
        "    return recall.mean().item()\n",
        "\n",
        "def ndcg_at_k(predictions, ground_truth, k=10):\n",
        "    top_k = predictions.topk(k, dim=1)[1]\n",
        "    gains = (ground_truth.gather(1, top_k)).float()\n",
        "    discounts = torch.log2(torch.arange(2, k + 2, device=ground_truth.device).float())\n",
        "    dcg = (gains / discounts).sum(1)\n",
        "    ideal_gains = torch.sort(ground_truth, descending=True)[0][:, :k]\n",
        "    ideal_dcg = (ideal_gains / discounts).sum(1)\n",
        "    ndcg = (dcg / torch.clamp(ideal_dcg, min=1e-10)).mean().item()\n",
        "    return ndcg\n",
        "\n",
        "# ===== Training Settings =====\n",
        "EPOCHS = 130\n",
        "start_epoch = 0\n",
        "\n",
        "# ===== Training Loop =====\n",
        "for epoch in range(start_epoch, EPOCHS):\n",
        "    model.train()\n",
        "    epoch_loss = 0.0\n",
        "\n",
        "    # Progress bar for training batches\n",
        "    loop = tqdm(train_loader, leave=True, desc=f\"Epoch {epoch+1}/{EPOCHS}\")\n",
        "\n",
        "    for user_vectors, user_ids in loop:\n",
        "        user_vectors = user_vectors.to(device)\n",
        "        user_ids = user_ids.squeeze().to(device)\n",
        "\n",
        "        optimizer.zero_grad()\n",
        "        outputs = model(user_vectors, user_ids)\n",
        "\n",
        "        loss = criterion(outputs, user_vectors)\n",
        "        loss.backward()\n",
        "        optimizer.step()\n",
        "\n",
        "        epoch_loss += loss.item()\n",
        "\n",
        "        loop.set_postfix(loss=loss.item())\n",
        "\n",
        "    scheduler.step()\n",
        "\n",
        "    # ===== Evaluation after each epoch =====\n",
        "    model.eval()\n",
        "    recall_scores = []\n",
        "    ndcg_scores = []\n",
        "\n",
        "    with torch.no_grad():\n",
        "        for user_vectors, user_ids in validation_loader:\n",
        "            user_vectors = user_vectors.to(device)\n",
        "            user_ids = user_ids.squeeze().to(device)\n",
        "\n",
        "            outputs = model(user_vectors, user_ids)\n",
        "\n",
        "            recall_scores.append(recall_at_k(outputs, user_vectors, k=10))\n",
        "            ndcg_scores.append(ndcg_at_k(outputs, user_vectors, k=10))\n",
        "\n",
        "    mean_recall = np.mean(recall_scores)\n",
        "    mean_ndcg = np.mean(ndcg_scores)\n",
        "\n",
        "    print(f\"\\nEpoch {epoch+1}/{EPOCHS} Completed | Avg Loss: {epoch_loss/len(train_loader):.4f} | Recall@10: {mean_recall:.4f} | NDCG@10: {mean_ndcg:.4f}\\n\")\n",
        "\n",
        "    # ===== Save checkpoint every 15 epochs =====\n",
        "    if (epoch + 1) % 15 == 0:\n",
        "        checkpoint_path = os.path.join(checkpoint_dir, f'cdae_checkpoint_epoch_{epoch+1}.pth')\n",
        "        torch.save({\n",
        "            'epoch': epoch,\n",
        "            'model_state_dict': model.state_dict(),\n",
        "            'optimizer_state_dict': optimizer.state_dict(),\n",
        "            'scheduler_state_dict': scheduler.state_dict()\n",
        "        }, checkpoint_path)\n",
        "        print(f\"Checkpoint saved at {checkpoint_path}\")\n",
        "\n",
        "# ===== Save Final Model after Training =====\n",
        "final_model_path = os.path.join(final_model_dir, 'cdae_final_model.pth')\n",
        "torch.save({\n",
        "    'epoch': EPOCHS,\n",
        "    'model_state_dict': model.state_dict(),\n",
        "    'optimizer_state_dict': optimizer.state_dict(),\n",
        "    'scheduler_state_dict': scheduler.state_dict()\n",
        "}, final_model_path)\n",
        "print(f\"Final model saved successfully at {final_model_path}\")\n"
      ],
      "metadata": {
        "colab": {
          "base_uri": "https://localhost:8080/"
        },
        "id": "aebUPlY9W8pn",
        "outputId": "56391be0-a055-43d0-bf3b-d6fa831bb149"
      },
      "execution_count": null,
      "outputs": [
        {
          "metadata": {
            "tags": null
          },
          "name": "stderr",
          "output_type": "stream",
          "text": [
            "Epoch 1/130: 100%|██████████| 286/286 [01:32<00:00,  3.08it/s, loss=0.011]\n"
          ]
        },
        {
          "metadata": {
            "tags": null
          },
          "name": "stdout",
          "output_type": "stream",
          "text": [
            "\n",
            "Epoch 1/130 Completed | Avg Loss: 0.0164 | Recall@10: 0.0507 | NDCG@10: 0.4484\n",
            "\n"
          ]
        },
        {
          "metadata": {
            "tags": null
          },
          "name": "stderr",
          "output_type": "stream",
          "text": [
            "Epoch 2/130: 100%|██████████| 286/286 [01:23<00:00,  3.43it/s, loss=0.0127]\n"
          ]
        },
        {
          "metadata": {
            "tags": null
          },
          "name": "stdout",
          "output_type": "stream",
          "text": [
            "\n",
            "Epoch 2/130 Completed | Avg Loss: 0.0120 | Recall@10: 0.0504 | NDCG@10: 0.4458\n",
            "\n"
          ]
        },
        {
          "metadata": {
            "tags": null
          },
          "name": "stderr",
          "output_type": "stream",
          "text": [
            "Epoch 3/130: 100%|██████████| 286/286 [01:22<00:00,  3.45it/s, loss=0.0125]\n"
          ]
        },
        {
          "metadata": {
            "tags": null
          },
          "name": "stdout",
          "output_type": "stream",
          "text": [
            "\n",
            "Epoch 3/130 Completed | Avg Loss: 0.0116 | Recall@10: 0.0520 | NDCG@10: 0.4487\n",
            "\n"
          ]
        },
        {
          "metadata": {
            "tags": null
          },
          "name": "stderr",
          "output_type": "stream",
          "text": [
            "Epoch 4/130: 100%|██████████| 286/286 [01:22<00:00,  3.47it/s, loss=0.0112]\n"
          ]
        },
        {
          "metadata": {
            "tags": null
          },
          "name": "stdout",
          "output_type": "stream",
          "text": [
            "\n",
            "Epoch 4/130 Completed | Avg Loss: 0.0114 | Recall@10: 0.0510 | NDCG@10: 0.4447\n",
            "\n"
          ]
        },
        {
          "metadata": {
            "tags": null
          },
          "name": "stderr",
          "output_type": "stream",
          "text": [
            "Epoch 5/130: 100%|██████████| 286/286 [01:22<00:00,  3.45it/s, loss=0.0132]\n"
          ]
        },
        {
          "metadata": {
            "tags": null
          },
          "name": "stdout",
          "output_type": "stream",
          "text": [
            "\n",
            "Epoch 5/130 Completed | Avg Loss: 0.0112 | Recall@10: 0.0521 | NDCG@10: 0.4496\n",
            "\n"
          ]
        },
        {
          "metadata": {
            "tags": null
          },
          "name": "stderr",
          "output_type": "stream",
          "text": [
            "Epoch 6/130: 100%|██████████| 286/286 [01:23<00:00,  3.43it/s, loss=0.0137]\n"
          ]
        },
        {
          "metadata": {
            "tags": null
          },
          "name": "stdout",
          "output_type": "stream",
          "text": [
            "\n",
            "Epoch 6/130 Completed | Avg Loss: 0.0111 | Recall@10: 0.0522 | NDCG@10: 0.4508\n",
            "\n"
          ]
        },
        {
          "metadata": {
            "tags": null
          },
          "name": "stderr",
          "output_type": "stream",
          "text": [
            "Epoch 7/130: 100%|██████████| 286/286 [01:23<00:00,  3.43it/s, loss=0.00926]\n"
          ]
        },
        {
          "metadata": {
            "tags": null
          },
          "name": "stdout",
          "output_type": "stream",
          "text": [
            "\n",
            "Epoch 7/130 Completed | Avg Loss: 0.0108 | Recall@10: 0.0534 | NDCG@10: 0.4596\n",
            "\n"
          ]
        },
        {
          "metadata": {
            "tags": null
          },
          "name": "stderr",
          "output_type": "stream",
          "text": [
            "Epoch 8/130: 100%|██████████| 286/286 [01:23<00:00,  3.44it/s, loss=0.00965]\n"
          ]
        },
        {
          "metadata": {
            "tags": null
          },
          "name": "stdout",
          "output_type": "stream",
          "text": [
            "\n",
            "Epoch 8/130 Completed | Avg Loss: 0.0102 | Recall@10: 0.0603 | NDCG@10: 0.4937\n",
            "\n"
          ]
        },
        {
          "metadata": {
            "tags": null
          },
          "name": "stderr",
          "output_type": "stream",
          "text": [
            "Epoch 9/130: 100%|██████████| 286/286 [01:23<00:00,  3.44it/s, loss=0.00948]\n"
          ]
        },
        {
          "metadata": {
            "tags": null
          },
          "name": "stdout",
          "output_type": "stream",
          "text": [
            "\n",
            "Epoch 9/130 Completed | Avg Loss: 0.0096 | Recall@10: 0.0669 | NDCG@10: 0.5225\n",
            "\n"
          ]
        },
        {
          "metadata": {
            "tags": null
          },
          "name": "stderr",
          "output_type": "stream",
          "text": [
            "Epoch 10/130: 100%|██████████| 286/286 [01:23<00:00,  3.43it/s, loss=0.0102]\n"
          ]
        },
        {
          "metadata": {
            "tags": null
          },
          "name": "stdout",
          "output_type": "stream",
          "text": [
            "\n",
            "Epoch 10/130 Completed | Avg Loss: 0.0091 | Recall@10: 0.0705 | NDCG@10: 0.5476\n",
            "\n"
          ]
        },
        {
          "metadata": {
            "tags": null
          },
          "name": "stderr",
          "output_type": "stream",
          "text": [
            "Epoch 11/130: 100%|██████████| 286/286 [01:23<00:00,  3.42it/s, loss=0.00782]\n"
          ]
        },
        {
          "metadata": {
            "tags": null
          },
          "name": "stdout",
          "output_type": "stream",
          "text": [
            "\n",
            "Epoch 11/130 Completed | Avg Loss: 0.0086 | Recall@10: 0.0770 | NDCG@10: 0.5861\n",
            "\n"
          ]
        },
        {
          "metadata": {
            "tags": null
          },
          "name": "stderr",
          "output_type": "stream",
          "text": [
            "Epoch 12/130: 100%|██████████| 286/286 [01:23<00:00,  3.42it/s, loss=0.00777]\n"
          ]
        },
        {
          "metadata": {
            "tags": null
          },
          "name": "stdout",
          "output_type": "stream",
          "text": [
            "\n",
            "Epoch 12/130 Completed | Avg Loss: 0.0083 | Recall@10: 0.0822 | NDCG@10: 0.6156\n",
            "\n"
          ]
        },
        {
          "metadata": {
            "tags": null
          },
          "name": "stderr",
          "output_type": "stream",
          "text": [
            "Epoch 13/130: 100%|██████████| 286/286 [01:23<00:00,  3.43it/s, loss=0.00717]\n"
          ]
        },
        {
          "metadata": {
            "tags": null
          },
          "name": "stdout",
          "output_type": "stream",
          "text": [
            "\n",
            "Epoch 13/130 Completed | Avg Loss: 0.0079 | Recall@10: 0.0861 | NDCG@10: 0.6421\n",
            "\n"
          ]
        },
        {
          "metadata": {
            "tags": null
          },
          "name": "stderr",
          "output_type": "stream",
          "text": [
            "Epoch 14/130: 100%|██████████| 286/286 [01:23<00:00,  3.42it/s, loss=0.00766]\n"
          ]
        },
        {
          "metadata": {
            "tags": null
          },
          "name": "stdout",
          "output_type": "stream",
          "text": [
            "\n",
            "Epoch 14/130 Completed | Avg Loss: 0.0077 | Recall@10: 0.0895 | NDCG@10: 0.6589\n",
            "\n"
          ]
        },
        {
          "metadata": {
            "tags": null
          },
          "name": "stderr",
          "output_type": "stream",
          "text": [
            "Epoch 15/130: 100%|██████████| 286/286 [01:24<00:00,  3.39it/s, loss=0.00707]\n"
          ]
        },
        {
          "metadata": {
            "tags": null
          },
          "name": "stdout",
          "output_type": "stream",
          "text": [
            "\n",
            "Epoch 15/130 Completed | Avg Loss: 0.0075 | Recall@10: 0.0910 | NDCG@10: 0.6674\n",
            "\n",
            "Checkpoint saved at /content/drive/MyDrive/CDAE_Checkpoints/cdae_checkpoint_epoch_15.pth\n"
          ]
        },
        {
          "metadata": {
            "tags": null
          },
          "name": "stderr",
          "output_type": "stream",
          "text": [
            "Epoch 16/130: 100%|██████████| 286/286 [01:26<00:00,  3.31it/s, loss=0.00645]\n"
          ]
        },
        {
          "metadata": {
            "tags": null
          },
          "name": "stdout",
          "output_type": "stream",
          "text": [
            "\n",
            "Epoch 16/130 Completed | Avg Loss: 0.0073 | Recall@10: 0.0927 | NDCG@10: 0.6765\n",
            "\n"
          ]
        },
        {
          "metadata": {
            "tags": null
          },
          "name": "stderr",
          "output_type": "stream",
          "text": [
            "Epoch 17/130: 100%|██████████| 286/286 [01:23<00:00,  3.41it/s, loss=0.00636]\n"
          ]
        },
        {
          "metadata": {
            "tags": null
          },
          "name": "stdout",
          "output_type": "stream",
          "text": [
            "\n",
            "Epoch 17/130 Completed | Avg Loss: 0.0072 | Recall@10: 0.0942 | NDCG@10: 0.6855\n",
            "\n"
          ]
        },
        {
          "metadata": {
            "tags": null
          },
          "name": "stderr",
          "output_type": "stream",
          "text": [
            "Epoch 18/130: 100%|██████████| 286/286 [01:23<00:00,  3.42it/s, loss=0.00645]\n"
          ]
        },
        {
          "metadata": {
            "tags": null
          },
          "name": "stdout",
          "output_type": "stream",
          "text": [
            "\n",
            "Epoch 18/130 Completed | Avg Loss: 0.0071 | Recall@10: 0.0955 | NDCG@10: 0.6922\n",
            "\n"
          ]
        },
        {
          "metadata": {
            "tags": null
          },
          "name": "stderr",
          "output_type": "stream",
          "text": [
            "Epoch 19/130: 100%|██████████| 286/286 [01:23<00:00,  3.42it/s, loss=0.0076]\n"
          ]
        },
        {
          "metadata": {
            "tags": null
          },
          "name": "stdout",
          "output_type": "stream",
          "text": [
            "\n",
            "Epoch 19/130 Completed | Avg Loss: 0.0070 | Recall@10: 0.0970 | NDCG@10: 0.6995\n",
            "\n"
          ]
        },
        {
          "metadata": {
            "tags": null
          },
          "name": "stderr",
          "output_type": "stream",
          "text": [
            "Epoch 20/130: 100%|██████████| 286/286 [01:23<00:00,  3.42it/s, loss=0.00656]\n"
          ]
        },
        {
          "metadata": {
            "tags": null
          },
          "name": "stdout",
          "output_type": "stream",
          "text": [
            "\n",
            "Epoch 20/130 Completed | Avg Loss: 0.0069 | Recall@10: 0.0981 | NDCG@10: 0.7041\n",
            "\n"
          ]
        },
        {
          "metadata": {
            "tags": null
          },
          "name": "stderr",
          "output_type": "stream",
          "text": [
            "Epoch 21/130: 100%|██████████| 286/286 [01:35<00:00,  3.00it/s, loss=0.00686]\n"
          ]
        },
        {
          "metadata": {
            "tags": null
          },
          "name": "stdout",
          "output_type": "stream",
          "text": [
            "\n",
            "Epoch 21/130 Completed | Avg Loss: 0.0068 | Recall@10: 0.0988 | NDCG@10: 0.7073\n",
            "\n"
          ]
        },
        {
          "metadata": {
            "tags": null
          },
          "name": "stderr",
          "output_type": "stream",
          "text": [
            "Epoch 22/130: 100%|██████████| 286/286 [01:32<00:00,  3.09it/s, loss=0.00691]\n"
          ]
        },
        {
          "metadata": {
            "tags": null
          },
          "name": "stdout",
          "output_type": "stream",
          "text": [
            "\n",
            "Epoch 22/130 Completed | Avg Loss: 0.0067 | Recall@10: 0.1001 | NDCG@10: 0.7131\n",
            "\n"
          ]
        },
        {
          "metadata": {
            "tags": null
          },
          "name": "stderr",
          "output_type": "stream",
          "text": [
            "Epoch 23/130: 100%|██████████| 286/286 [01:27<00:00,  3.25it/s, loss=0.00584]\n"
          ]
        },
        {
          "metadata": {
            "tags": null
          },
          "name": "stdout",
          "output_type": "stream",
          "text": [
            "\n",
            "Epoch 23/130 Completed | Avg Loss: 0.0067 | Recall@10: 0.1011 | NDCG@10: 0.7176\n",
            "\n"
          ]
        },
        {
          "metadata": {
            "tags": null
          },
          "name": "stderr",
          "output_type": "stream",
          "text": [
            "Epoch 24/130: 100%|██████████| 286/286 [01:25<00:00,  3.35it/s, loss=0.00657]\n"
          ]
        },
        {
          "metadata": {
            "tags": null
          },
          "name": "stdout",
          "output_type": "stream",
          "text": [
            "\n",
            "Epoch 24/130 Completed | Avg Loss: 0.0066 | Recall@10: 0.1017 | NDCG@10: 0.7206\n",
            "\n"
          ]
        },
        {
          "metadata": {
            "tags": null
          },
          "name": "stderr",
          "output_type": "stream",
          "text": [
            "Epoch 25/130: 100%|██████████| 286/286 [01:24<00:00,  3.38it/s, loss=0.00599]\n"
          ]
        },
        {
          "metadata": {
            "tags": null
          },
          "name": "stdout",
          "output_type": "stream",
          "text": [
            "\n",
            "Epoch 25/130 Completed | Avg Loss: 0.0066 | Recall@10: 0.1026 | NDCG@10: 0.7245\n",
            "\n"
          ]
        },
        {
          "metadata": {
            "tags": null
          },
          "name": "stderr",
          "output_type": "stream",
          "text": [
            "Epoch 26/130: 100%|██████████| 286/286 [01:24<00:00,  3.39it/s, loss=0.00657]\n"
          ]
        },
        {
          "metadata": {
            "tags": null
          },
          "name": "stdout",
          "output_type": "stream",
          "text": [
            "\n",
            "Epoch 26/130 Completed | Avg Loss: 0.0066 | Recall@10: 0.1037 | NDCG@10: 0.7282\n",
            "\n"
          ]
        },
        {
          "metadata": {
            "tags": null
          },
          "name": "stderr",
          "output_type": "stream",
          "text": [
            "Epoch 27/130: 100%|██████████| 286/286 [01:24<00:00,  3.39it/s, loss=0.0066]\n"
          ]
        },
        {
          "metadata": {
            "tags": null
          },
          "name": "stdout",
          "output_type": "stream",
          "text": [
            "\n",
            "Epoch 27/130 Completed | Avg Loss: 0.0065 | Recall@10: 0.1044 | NDCG@10: 0.7313\n",
            "\n"
          ]
        },
        {
          "metadata": {
            "tags": null
          },
          "name": "stderr",
          "output_type": "stream",
          "text": [
            "Epoch 28/130: 100%|██████████| 286/286 [01:25<00:00,  3.36it/s, loss=0.00672]\n"
          ]
        },
        {
          "metadata": {
            "tags": null
          },
          "name": "stdout",
          "output_type": "stream",
          "text": [
            "\n",
            "Epoch 28/130 Completed | Avg Loss: 0.0065 | Recall@10: 0.1048 | NDCG@10: 0.7325\n",
            "\n"
          ]
        },
        {
          "metadata": {
            "tags": null
          },
          "name": "stderr",
          "output_type": "stream",
          "text": [
            "Epoch 29/130: 100%|██████████| 286/286 [01:24<00:00,  3.37it/s, loss=0.00716]\n"
          ]
        },
        {
          "metadata": {
            "tags": null
          },
          "name": "stdout",
          "output_type": "stream",
          "text": [
            "\n",
            "Epoch 29/130 Completed | Avg Loss: 0.0065 | Recall@10: 0.1057 | NDCG@10: 0.7365\n",
            "\n"
          ]
        },
        {
          "metadata": {
            "tags": null
          },
          "name": "stderr",
          "output_type": "stream",
          "text": [
            "Epoch 30/130: 100%|██████████| 286/286 [01:24<00:00,  3.37it/s, loss=0.00732]\n"
          ]
        },
        {
          "metadata": {
            "tags": null
          },
          "name": "stdout",
          "output_type": "stream",
          "text": [
            "\n",
            "Epoch 30/130 Completed | Avg Loss: 0.0064 | Recall@10: 0.1059 | NDCG@10: 0.7375\n",
            "\n",
            "Checkpoint saved at /content/drive/MyDrive/CDAE_Checkpoints/cdae_checkpoint_epoch_30.pth\n"
          ]
        },
        {
          "metadata": {
            "tags": null
          },
          "name": "stderr",
          "output_type": "stream",
          "text": [
            "Epoch 31/130: 100%|██████████| 286/286 [01:25<00:00,  3.33it/s, loss=0.00577]\n"
          ]
        },
        {
          "metadata": {
            "tags": null
          },
          "name": "stdout",
          "output_type": "stream",
          "text": [
            "\n",
            "Epoch 31/130 Completed | Avg Loss: 0.0064 | Recall@10: 0.1064 | NDCG@10: 0.7396\n",
            "\n"
          ]
        },
        {
          "metadata": {
            "tags": null
          },
          "name": "stderr",
          "output_type": "stream",
          "text": [
            "Epoch 32/130: 100%|██████████| 286/286 [01:24<00:00,  3.40it/s, loss=0.00661]\n"
          ]
        },
        {
          "metadata": {
            "tags": null
          },
          "name": "stdout",
          "output_type": "stream",
          "text": [
            "\n",
            "Epoch 32/130 Completed | Avg Loss: 0.0064 | Recall@10: 0.1066 | NDCG@10: 0.7401\n",
            "\n"
          ]
        },
        {
          "metadata": {
            "tags": null
          },
          "name": "stderr",
          "output_type": "stream",
          "text": [
            "Epoch 33/130: 100%|██████████| 286/286 [01:23<00:00,  3.42it/s, loss=0.00613]\n"
          ]
        },
        {
          "metadata": {
            "tags": null
          },
          "name": "stdout",
          "output_type": "stream",
          "text": [
            "\n",
            "Epoch 33/130 Completed | Avg Loss: 0.0064 | Recall@10: 0.1072 | NDCG@10: 0.7431\n",
            "\n"
          ]
        },
        {
          "metadata": {
            "tags": null
          },
          "name": "stderr",
          "output_type": "stream",
          "text": [
            "Epoch 34/130: 100%|██████████| 286/286 [01:23<00:00,  3.44it/s, loss=0.00644]\n"
          ]
        },
        {
          "metadata": {
            "tags": null
          },
          "name": "stdout",
          "output_type": "stream",
          "text": [
            "\n",
            "Epoch 34/130 Completed | Avg Loss: 0.0064 | Recall@10: 0.1071 | NDCG@10: 0.7426\n",
            "\n"
          ]
        },
        {
          "metadata": {
            "tags": null
          },
          "name": "stderr",
          "output_type": "stream",
          "text": [
            "Epoch 35/130: 100%|██████████| 286/286 [01:23<00:00,  3.42it/s, loss=0.0053]\n"
          ]
        },
        {
          "metadata": {
            "tags": null
          },
          "name": "stdout",
          "output_type": "stream",
          "text": [
            "\n",
            "Epoch 35/130 Completed | Avg Loss: 0.0063 | Recall@10: 0.1076 | NDCG@10: 0.7443\n",
            "\n"
          ]
        },
        {
          "metadata": {
            "tags": null
          },
          "name": "stderr",
          "output_type": "stream",
          "text": [
            "Epoch 36/130: 100%|██████████| 286/286 [01:23<00:00,  3.44it/s, loss=0.00668]\n"
          ]
        },
        {
          "metadata": {
            "tags": null
          },
          "name": "stdout",
          "output_type": "stream",
          "text": [
            "\n",
            "Epoch 36/130 Completed | Avg Loss: 0.0063 | Recall@10: 0.1074 | NDCG@10: 0.7437\n",
            "\n"
          ]
        },
        {
          "metadata": {
            "tags": null
          },
          "name": "stderr",
          "output_type": "stream",
          "text": [
            "Epoch 37/130: 100%|██████████| 286/286 [01:23<00:00,  3.43it/s, loss=0.00678]\n"
          ]
        },
        {
          "metadata": {
            "tags": null
          },
          "name": "stdout",
          "output_type": "stream",
          "text": [
            "\n",
            "Epoch 37/130 Completed | Avg Loss: 0.0063 | Recall@10: 0.1080 | NDCG@10: 0.7457\n",
            "\n"
          ]
        },
        {
          "metadata": {
            "tags": null
          },
          "name": "stderr",
          "output_type": "stream",
          "text": [
            "Epoch 38/130: 100%|██████████| 286/286 [01:23<00:00,  3.43it/s, loss=0.00605]\n"
          ]
        },
        {
          "metadata": {
            "tags": null
          },
          "name": "stdout",
          "output_type": "stream",
          "text": [
            "\n",
            "Epoch 38/130 Completed | Avg Loss: 0.0063 | Recall@10: 0.1081 | NDCG@10: 0.7455\n",
            "\n"
          ]
        },
        {
          "metadata": {
            "tags": null
          },
          "name": "stderr",
          "output_type": "stream",
          "text": [
            "Epoch 39/130: 100%|██████████| 286/286 [01:23<00:00,  3.42it/s, loss=0.00681]\n"
          ]
        },
        {
          "metadata": {
            "tags": null
          },
          "name": "stdout",
          "output_type": "stream",
          "text": [
            "\n",
            "Epoch 39/130 Completed | Avg Loss: 0.0063 | Recall@10: 0.1083 | NDCG@10: 0.7466\n",
            "\n"
          ]
        },
        {
          "metadata": {
            "tags": null
          },
          "name": "stderr",
          "output_type": "stream",
          "text": [
            "Epoch 40/130: 100%|██████████| 286/286 [01:23<00:00,  3.43it/s, loss=0.00564]\n"
          ]
        },
        {
          "metadata": {
            "tags": null
          },
          "name": "stdout",
          "output_type": "stream",
          "text": [
            "\n",
            "Epoch 40/130 Completed | Avg Loss: 0.0063 | Recall@10: 0.1089 | NDCG@10: 0.7486\n",
            "\n"
          ]
        },
        {
          "metadata": {
            "tags": null
          },
          "name": "stderr",
          "output_type": "stream",
          "text": [
            "Epoch 41/130: 100%|██████████| 286/286 [01:23<00:00,  3.43it/s, loss=0.00628]\n"
          ]
        },
        {
          "metadata": {
            "tags": null
          },
          "name": "stdout",
          "output_type": "stream",
          "text": [
            "\n",
            "Epoch 41/130 Completed | Avg Loss: 0.0063 | Recall@10: 0.1085 | NDCG@10: 0.7476\n",
            "\n"
          ]
        },
        {
          "metadata": {
            "tags": null
          },
          "name": "stderr",
          "output_type": "stream",
          "text": [
            "Epoch 42/130: 100%|██████████| 286/286 [01:23<00:00,  3.44it/s, loss=0.00664]\n"
          ]
        },
        {
          "metadata": {
            "tags": null
          },
          "name": "stdout",
          "output_type": "stream",
          "text": [
            "\n",
            "Epoch 42/130 Completed | Avg Loss: 0.0063 | Recall@10: 0.1090 | NDCG@10: 0.7496\n",
            "\n"
          ]
        },
        {
          "metadata": {
            "tags": null
          },
          "name": "stderr",
          "output_type": "stream",
          "text": [
            "Epoch 43/130: 100%|██████████| 286/286 [01:22<00:00,  3.45it/s, loss=0.0057]\n"
          ]
        },
        {
          "metadata": {
            "tags": null
          },
          "name": "stdout",
          "output_type": "stream",
          "text": [
            "\n",
            "Epoch 43/130 Completed | Avg Loss: 0.0063 | Recall@10: 0.1093 | NDCG@10: 0.7506\n",
            "\n"
          ]
        },
        {
          "metadata": {
            "tags": null
          },
          "name": "stderr",
          "output_type": "stream",
          "text": [
            "Epoch 44/130: 100%|██████████| 286/286 [01:23<00:00,  3.43it/s, loss=0.00746]\n"
          ]
        },
        {
          "metadata": {
            "tags": null
          },
          "name": "stdout",
          "output_type": "stream",
          "text": [
            "\n",
            "Epoch 44/130 Completed | Avg Loss: 0.0063 | Recall@10: 0.1094 | NDCG@10: 0.7510\n",
            "\n"
          ]
        },
        {
          "metadata": {
            "tags": null
          },
          "name": "stderr",
          "output_type": "stream",
          "text": [
            "Epoch 45/130: 100%|██████████| 286/286 [01:22<00:00,  3.45it/s, loss=0.00602]\n"
          ]
        },
        {
          "metadata": {
            "tags": null
          },
          "name": "stdout",
          "output_type": "stream",
          "text": [
            "\n",
            "Epoch 45/130 Completed | Avg Loss: 0.0062 | Recall@10: 0.1098 | NDCG@10: 0.7523\n",
            "\n",
            "Checkpoint saved at /content/drive/MyDrive/CDAE_Checkpoints/cdae_checkpoint_epoch_45.pth\n"
          ]
        },
        {
          "metadata": {
            "tags": null
          },
          "name": "stderr",
          "output_type": "stream",
          "text": [
            "Epoch 46/130: 100%|██████████| 286/286 [01:26<00:00,  3.32it/s, loss=0.00696]\n"
          ]
        },
        {
          "metadata": {
            "tags": null
          },
          "name": "stdout",
          "output_type": "stream",
          "text": [
            "\n",
            "Epoch 46/130 Completed | Avg Loss: 0.0062 | Recall@10: 0.1100 | NDCG@10: 0.7535\n",
            "\n"
          ]
        },
        {
          "metadata": {
            "tags": null
          },
          "name": "stderr",
          "output_type": "stream",
          "text": [
            "Epoch 47/130: 100%|██████████| 286/286 [01:25<00:00,  3.36it/s, loss=0.00606]\n"
          ]
        },
        {
          "metadata": {
            "tags": null
          },
          "name": "stdout",
          "output_type": "stream",
          "text": [
            "\n",
            "Epoch 47/130 Completed | Avg Loss: 0.0062 | Recall@10: 0.1101 | NDCG@10: 0.7541\n",
            "\n"
          ]
        },
        {
          "metadata": {
            "tags": null
          },
          "name": "stderr",
          "output_type": "stream",
          "text": [
            "Epoch 48/130: 100%|██████████| 286/286 [01:24<00:00,  3.37it/s, loss=0.00599]\n"
          ]
        },
        {
          "metadata": {
            "tags": null
          },
          "name": "stdout",
          "output_type": "stream",
          "text": [
            "\n",
            "Epoch 48/130 Completed | Avg Loss: 0.0062 | Recall@10: 0.1103 | NDCG@10: 0.7546\n",
            "\n"
          ]
        },
        {
          "metadata": {
            "tags": null
          },
          "name": "stderr",
          "output_type": "stream",
          "text": [
            "Epoch 49/130: 100%|██████████| 286/286 [01:25<00:00,  3.35it/s, loss=0.00763]\n"
          ]
        },
        {
          "metadata": {
            "tags": null
          },
          "name": "stdout",
          "output_type": "stream",
          "text": [
            "\n",
            "Epoch 49/130 Completed | Avg Loss: 0.0062 | Recall@10: 0.1104 | NDCG@10: 0.7550\n",
            "\n"
          ]
        },
        {
          "metadata": {
            "tags": null
          },
          "name": "stderr",
          "output_type": "stream",
          "text": [
            "Epoch 50/130: 100%|██████████| 286/286 [01:25<00:00,  3.33it/s, loss=0.00536]\n"
          ]
        },
        {
          "metadata": {
            "tags": null
          },
          "name": "stdout",
          "output_type": "stream",
          "text": [
            "\n",
            "Epoch 50/130 Completed | Avg Loss: 0.0062 | Recall@10: 0.1107 | NDCG@10: 0.7561\n",
            "\n"
          ]
        },
        {
          "metadata": {
            "tags": null
          },
          "name": "stderr",
          "output_type": "stream",
          "text": [
            "Epoch 51/130: 100%|██████████| 286/286 [01:25<00:00,  3.36it/s, loss=0.00541]\n"
          ]
        },
        {
          "metadata": {
            "tags": null
          },
          "name": "stdout",
          "output_type": "stream",
          "text": [
            "\n",
            "Epoch 51/130 Completed | Avg Loss: 0.0062 | Recall@10: 0.1109 | NDCG@10: 0.7576\n",
            "\n"
          ]
        },
        {
          "metadata": {
            "tags": null
          },
          "name": "stderr",
          "output_type": "stream",
          "text": [
            "Epoch 52/130: 100%|██████████| 286/286 [01:25<00:00,  3.33it/s, loss=0.00649]\n"
          ]
        },
        {
          "metadata": {
            "tags": null
          },
          "name": "stdout",
          "output_type": "stream",
          "text": [
            "\n",
            "Epoch 52/130 Completed | Avg Loss: 0.0062 | Recall@10: 0.1109 | NDCG@10: 0.7575\n",
            "\n"
          ]
        },
        {
          "metadata": {
            "tags": null
          },
          "name": "stderr",
          "output_type": "stream",
          "text": [
            "Epoch 53/130: 100%|██████████| 286/286 [01:24<00:00,  3.37it/s, loss=0.00616]\n"
          ]
        },
        {
          "metadata": {
            "tags": null
          },
          "name": "stdout",
          "output_type": "stream",
          "text": [
            "\n",
            "Epoch 53/130 Completed | Avg Loss: 0.0062 | Recall@10: 0.1113 | NDCG@10: 0.7583\n",
            "\n"
          ]
        },
        {
          "metadata": {
            "tags": null
          },
          "name": "stderr",
          "output_type": "stream",
          "text": [
            "Epoch 54/130: 100%|██████████| 286/286 [01:24<00:00,  3.37it/s, loss=0.00585]\n"
          ]
        },
        {
          "metadata": {
            "tags": null
          },
          "name": "stdout",
          "output_type": "stream",
          "text": [
            "\n",
            "Epoch 54/130 Completed | Avg Loss: 0.0062 | Recall@10: 0.1118 | NDCG@10: 0.7598\n",
            "\n"
          ]
        },
        {
          "metadata": {
            "tags": null
          },
          "name": "stderr",
          "output_type": "stream",
          "text": [
            "Epoch 55/130: 100%|██████████| 286/286 [01:25<00:00,  3.36it/s, loss=0.00697]\n"
          ]
        },
        {
          "metadata": {
            "tags": null
          },
          "name": "stdout",
          "output_type": "stream",
          "text": [
            "\n",
            "Epoch 55/130 Completed | Avg Loss: 0.0062 | Recall@10: 0.1119 | NDCG@10: 0.7610\n",
            "\n"
          ]
        },
        {
          "metadata": {
            "tags": null
          },
          "name": "stderr",
          "output_type": "stream",
          "text": [
            "Epoch 56/130: 100%|██████████| 286/286 [01:25<00:00,  3.35it/s, loss=0.0066]\n"
          ]
        },
        {
          "metadata": {
            "tags": null
          },
          "name": "stdout",
          "output_type": "stream",
          "text": [
            "\n",
            "Epoch 56/130 Completed | Avg Loss: 0.0062 | Recall@10: 0.1120 | NDCG@10: 0.7608\n",
            "\n"
          ]
        },
        {
          "metadata": {
            "tags": null
          },
          "name": "stderr",
          "output_type": "stream",
          "text": [
            "Epoch 57/130: 100%|██████████| 286/286 [01:25<00:00,  3.36it/s, loss=0.006]\n"
          ]
        },
        {
          "metadata": {
            "tags": null
          },
          "name": "stdout",
          "output_type": "stream",
          "text": [
            "\n",
            "Epoch 57/130 Completed | Avg Loss: 0.0062 | Recall@10: 0.1120 | NDCG@10: 0.7616\n",
            "\n"
          ]
        },
        {
          "metadata": {
            "tags": null
          },
          "name": "stderr",
          "output_type": "stream",
          "text": [
            "Epoch 58/130: 100%|██████████| 286/286 [01:24<00:00,  3.37it/s, loss=0.00566]\n"
          ]
        },
        {
          "metadata": {
            "tags": null
          },
          "name": "stdout",
          "output_type": "stream",
          "text": [
            "\n",
            "Epoch 58/130 Completed | Avg Loss: 0.0062 | Recall@10: 0.1124 | NDCG@10: 0.7625\n",
            "\n"
          ]
        },
        {
          "metadata": {
            "tags": null
          },
          "name": "stderr",
          "output_type": "stream",
          "text": [
            "Epoch 59/130: 100%|██████████| 286/286 [01:26<00:00,  3.31it/s, loss=0.00558]\n"
          ]
        },
        {
          "metadata": {
            "tags": null
          },
          "name": "stdout",
          "output_type": "stream",
          "text": [
            "\n",
            "Epoch 59/130 Completed | Avg Loss: 0.0061 | Recall@10: 0.1127 | NDCG@10: 0.7639\n",
            "\n"
          ]
        },
        {
          "metadata": {
            "tags": null
          },
          "name": "stderr",
          "output_type": "stream",
          "text": [
            "Epoch 60/130: 100%|██████████| 286/286 [01:25<00:00,  3.34it/s, loss=0.00659]\n"
          ]
        },
        {
          "metadata": {
            "tags": null
          },
          "name": "stdout",
          "output_type": "stream",
          "text": [
            "\n",
            "Epoch 60/130 Completed | Avg Loss: 0.0061 | Recall@10: 0.1131 | NDCG@10: 0.7658\n",
            "\n",
            "Checkpoint saved at /content/drive/MyDrive/CDAE_Checkpoints/cdae_checkpoint_epoch_60.pth\n"
          ]
        },
        {
          "metadata": {
            "tags": null
          },
          "name": "stderr",
          "output_type": "stream",
          "text": [
            "Epoch 61/130: 100%|██████████| 286/286 [01:26<00:00,  3.32it/s, loss=0.00635]\n"
          ]
        },
        {
          "metadata": {
            "tags": null
          },
          "name": "stdout",
          "output_type": "stream",
          "text": [
            "\n",
            "Epoch 61/130 Completed | Avg Loss: 0.0061 | Recall@10: 0.1130 | NDCG@10: 0.7657\n",
            "\n"
          ]
        },
        {
          "metadata": {
            "tags": null
          },
          "name": "stderr",
          "output_type": "stream",
          "text": [
            "Epoch 62/130: 100%|██████████| 286/286 [01:24<00:00,  3.37it/s, loss=0.00593]\n"
          ]
        },
        {
          "metadata": {
            "tags": null
          },
          "name": "stdout",
          "output_type": "stream",
          "text": [
            "\n",
            "Epoch 62/130 Completed | Avg Loss: 0.0061 | Recall@10: 0.1131 | NDCG@10: 0.7663\n",
            "\n"
          ]
        },
        {
          "metadata": {
            "tags": null
          },
          "name": "stderr",
          "output_type": "stream",
          "text": [
            "Epoch 63/130: 100%|██████████| 286/286 [01:24<00:00,  3.39it/s, loss=0.00594]\n"
          ]
        },
        {
          "metadata": {
            "tags": null
          },
          "name": "stdout",
          "output_type": "stream",
          "text": [
            "\n",
            "Epoch 63/130 Completed | Avg Loss: 0.0061 | Recall@10: 0.1134 | NDCG@10: 0.7671\n",
            "\n"
          ]
        },
        {
          "metadata": {
            "tags": null
          },
          "name": "stderr",
          "output_type": "stream",
          "text": [
            "Epoch 64/130: 100%|██████████| 286/286 [01:23<00:00,  3.41it/s, loss=0.00599]\n"
          ]
        },
        {
          "metadata": {
            "tags": null
          },
          "name": "stdout",
          "output_type": "stream",
          "text": [
            "\n",
            "Epoch 64/130 Completed | Avg Loss: 0.0061 | Recall@10: 0.1133 | NDCG@10: 0.7666\n",
            "\n"
          ]
        },
        {
          "metadata": {
            "tags": null
          },
          "name": "stderr",
          "output_type": "stream",
          "text": [
            "Epoch 65/130: 100%|██████████| 286/286 [01:24<00:00,  3.38it/s, loss=0.00556]\n"
          ]
        },
        {
          "metadata": {
            "tags": null
          },
          "name": "stdout",
          "output_type": "stream",
          "text": [
            "\n",
            "Epoch 65/130 Completed | Avg Loss: 0.0061 | Recall@10: 0.1134 | NDCG@10: 0.7672\n",
            "\n"
          ]
        },
        {
          "metadata": {
            "tags": null
          },
          "name": "stderr",
          "output_type": "stream",
          "text": [
            "Epoch 66/130: 100%|██████████| 286/286 [01:24<00:00,  3.38it/s, loss=0.00595]\n"
          ]
        },
        {
          "metadata": {
            "tags": null
          },
          "name": "stdout",
          "output_type": "stream",
          "text": [
            "\n",
            "Epoch 66/130 Completed | Avg Loss: 0.0061 | Recall@10: 0.1134 | NDCG@10: 0.7674\n",
            "\n"
          ]
        },
        {
          "metadata": {
            "tags": null
          },
          "name": "stderr",
          "output_type": "stream",
          "text": [
            "Epoch 67/130: 100%|██████████| 286/286 [01:24<00:00,  3.40it/s, loss=0.00568]\n"
          ]
        },
        {
          "metadata": {
            "tags": null
          },
          "name": "stdout",
          "output_type": "stream",
          "text": [
            "\n",
            "Epoch 67/130 Completed | Avg Loss: 0.0061 | Recall@10: 0.1138 | NDCG@10: 0.7687\n",
            "\n"
          ]
        },
        {
          "metadata": {
            "tags": null
          },
          "name": "stderr",
          "output_type": "stream",
          "text": [
            "Epoch 68/130: 100%|██████████| 286/286 [01:23<00:00,  3.42it/s, loss=0.00611]\n"
          ]
        },
        {
          "metadata": {
            "tags": null
          },
          "name": "stdout",
          "output_type": "stream",
          "text": [
            "\n",
            "Epoch 68/130 Completed | Avg Loss: 0.0061 | Recall@10: 0.1139 | NDCG@10: 0.7688\n",
            "\n"
          ]
        },
        {
          "metadata": {
            "tags": null
          },
          "name": "stderr",
          "output_type": "stream",
          "text": [
            "Epoch 69/130: 100%|██████████| 286/286 [01:24<00:00,  3.40it/s, loss=0.00643]\n"
          ]
        },
        {
          "metadata": {
            "tags": null
          },
          "name": "stdout",
          "output_type": "stream",
          "text": [
            "\n",
            "Epoch 69/130 Completed | Avg Loss: 0.0061 | Recall@10: 0.1140 | NDCG@10: 0.7697\n",
            "\n"
          ]
        },
        {
          "metadata": {
            "tags": null
          },
          "name": "stderr",
          "output_type": "stream",
          "text": [
            "Epoch 70/130: 100%|██████████| 286/286 [01:24<00:00,  3.37it/s, loss=0.00664]\n"
          ]
        },
        {
          "metadata": {
            "tags": null
          },
          "name": "stdout",
          "output_type": "stream",
          "text": [
            "\n",
            "Epoch 70/130 Completed | Avg Loss: 0.0061 | Recall@10: 0.1141 | NDCG@10: 0.7702\n",
            "\n"
          ]
        },
        {
          "metadata": {
            "tags": null
          },
          "name": "stderr",
          "output_type": "stream",
          "text": [
            "Epoch 71/130: 100%|██████████| 286/286 [01:24<00:00,  3.40it/s, loss=0.00634]\n"
          ]
        },
        {
          "metadata": {
            "tags": null
          },
          "name": "stdout",
          "output_type": "stream",
          "text": [
            "\n",
            "Epoch 71/130 Completed | Avg Loss: 0.0061 | Recall@10: 0.1140 | NDCG@10: 0.7701\n",
            "\n"
          ]
        },
        {
          "metadata": {
            "tags": null
          },
          "name": "stderr",
          "output_type": "stream",
          "text": [
            "Epoch 72/130: 100%|██████████| 286/286 [01:24<00:00,  3.38it/s, loss=0.00658]\n"
          ]
        },
        {
          "metadata": {
            "tags": null
          },
          "name": "stdout",
          "output_type": "stream",
          "text": [
            "\n",
            "Epoch 72/130 Completed | Avg Loss: 0.0061 | Recall@10: 0.1142 | NDCG@10: 0.7707\n",
            "\n"
          ]
        },
        {
          "metadata": {
            "tags": null
          },
          "name": "stderr",
          "output_type": "stream",
          "text": [
            "Epoch 73/130: 100%|██████████| 286/286 [01:24<00:00,  3.38it/s, loss=0.00568]\n"
          ]
        },
        {
          "metadata": {
            "tags": null
          },
          "name": "stdout",
          "output_type": "stream",
          "text": [
            "\n",
            "Epoch 73/130 Completed | Avg Loss: 0.0061 | Recall@10: 0.1143 | NDCG@10: 0.7711\n",
            "\n"
          ]
        },
        {
          "metadata": {
            "tags": null
          },
          "name": "stderr",
          "output_type": "stream",
          "text": [
            "Epoch 74/130: 100%|██████████| 286/286 [01:24<00:00,  3.36it/s, loss=0.00631]\n"
          ]
        },
        {
          "metadata": {
            "tags": null
          },
          "name": "stdout",
          "output_type": "stream",
          "text": [
            "\n",
            "Epoch 74/130 Completed | Avg Loss: 0.0061 | Recall@10: 0.1144 | NDCG@10: 0.7713\n",
            "\n"
          ]
        },
        {
          "metadata": {
            "tags": null
          },
          "name": "stderr",
          "output_type": "stream",
          "text": [
            "Epoch 75/130: 100%|██████████| 286/286 [01:24<00:00,  3.38it/s, loss=0.00517]\n"
          ]
        },
        {
          "metadata": {
            "tags": null
          },
          "name": "stdout",
          "output_type": "stream",
          "text": [
            "\n",
            "Epoch 75/130 Completed | Avg Loss: 0.0061 | Recall@10: 0.1145 | NDCG@10: 0.7717\n",
            "\n",
            "Checkpoint saved at /content/drive/MyDrive/CDAE_Checkpoints/cdae_checkpoint_epoch_75.pth\n"
          ]
        },
        {
          "metadata": {
            "tags": null
          },
          "name": "stderr",
          "output_type": "stream",
          "text": [
            "Epoch 76/130: 100%|██████████| 286/286 [01:26<00:00,  3.32it/s, loss=0.0058]\n"
          ]
        },
        {
          "metadata": {
            "tags": null
          },
          "name": "stdout",
          "output_type": "stream",
          "text": [
            "\n",
            "Epoch 76/130 Completed | Avg Loss: 0.0061 | Recall@10: 0.1146 | NDCG@10: 0.7722\n",
            "\n"
          ]
        },
        {
          "metadata": {
            "tags": null
          },
          "name": "stderr",
          "output_type": "stream",
          "text": [
            "Epoch 77/130: 100%|██████████| 286/286 [01:24<00:00,  3.40it/s, loss=0.00642]\n"
          ]
        },
        {
          "metadata": {
            "tags": null
          },
          "name": "stdout",
          "output_type": "stream",
          "text": [
            "\n",
            "Epoch 77/130 Completed | Avg Loss: 0.0061 | Recall@10: 0.1146 | NDCG@10: 0.7725\n",
            "\n"
          ]
        },
        {
          "metadata": {
            "tags": null
          },
          "name": "stderr",
          "output_type": "stream",
          "text": [
            "Epoch 78/130: 100%|██████████| 286/286 [01:24<00:00,  3.38it/s, loss=0.00568]\n"
          ]
        },
        {
          "metadata": {
            "tags": null
          },
          "name": "stdout",
          "output_type": "stream",
          "text": [
            "\n",
            "Epoch 78/130 Completed | Avg Loss: 0.0061 | Recall@10: 0.1147 | NDCG@10: 0.7728\n",
            "\n"
          ]
        },
        {
          "metadata": {
            "tags": null
          },
          "name": "stderr",
          "output_type": "stream",
          "text": [
            "Epoch 79/130: 100%|██████████| 286/286 [01:24<00:00,  3.39it/s, loss=0.00591]\n"
          ]
        },
        {
          "metadata": {
            "tags": null
          },
          "name": "stdout",
          "output_type": "stream",
          "text": [
            "\n",
            "Epoch 79/130 Completed | Avg Loss: 0.0061 | Recall@10: 0.1149 | NDCG@10: 0.7737\n",
            "\n"
          ]
        },
        {
          "metadata": {
            "tags": null
          },
          "name": "stderr",
          "output_type": "stream",
          "text": [
            "Epoch 80/130: 100%|██████████| 286/286 [01:23<00:00,  3.41it/s, loss=0.00642]\n"
          ]
        },
        {
          "metadata": {
            "tags": null
          },
          "name": "stdout",
          "output_type": "stream",
          "text": [
            "\n",
            "Epoch 80/130 Completed | Avg Loss: 0.0061 | Recall@10: 0.1151 | NDCG@10: 0.7744\n",
            "\n"
          ]
        },
        {
          "metadata": {
            "tags": null
          },
          "name": "stderr",
          "output_type": "stream",
          "text": [
            "Epoch 81/130: 100%|██████████| 286/286 [01:24<00:00,  3.40it/s, loss=0.0054]\n"
          ]
        },
        {
          "metadata": {
            "tags": null
          },
          "name": "stdout",
          "output_type": "stream",
          "text": [
            "\n",
            "Epoch 81/130 Completed | Avg Loss: 0.0061 | Recall@10: 0.1150 | NDCG@10: 0.7744\n",
            "\n"
          ]
        },
        {
          "metadata": {
            "tags": null
          },
          "name": "stderr",
          "output_type": "stream",
          "text": [
            "Epoch 82/130: 100%|██████████| 286/286 [01:24<00:00,  3.40it/s, loss=0.00588]\n"
          ]
        },
        {
          "metadata": {
            "tags": null
          },
          "name": "stdout",
          "output_type": "stream",
          "text": [
            "\n",
            "Epoch 82/130 Completed | Avg Loss: 0.0060 | Recall@10: 0.1151 | NDCG@10: 0.7746\n",
            "\n"
          ]
        },
        {
          "metadata": {
            "tags": null
          },
          "name": "stderr",
          "output_type": "stream",
          "text": [
            "Epoch 83/130: 100%|██████████| 286/286 [01:24<00:00,  3.40it/s, loss=0.00639]\n"
          ]
        },
        {
          "metadata": {
            "tags": null
          },
          "name": "stdout",
          "output_type": "stream",
          "text": [
            "\n",
            "Epoch 83/130 Completed | Avg Loss: 0.0060 | Recall@10: 0.1153 | NDCG@10: 0.7753\n",
            "\n"
          ]
        },
        {
          "metadata": {
            "tags": null
          },
          "name": "stderr",
          "output_type": "stream",
          "text": [
            "Epoch 84/130: 100%|██████████| 286/286 [01:24<00:00,  3.40it/s, loss=0.00637]\n"
          ]
        },
        {
          "metadata": {
            "tags": null
          },
          "name": "stdout",
          "output_type": "stream",
          "text": [
            "\n",
            "Epoch 84/130 Completed | Avg Loss: 0.0060 | Recall@10: 0.1152 | NDCG@10: 0.7749\n",
            "\n"
          ]
        },
        {
          "metadata": {
            "tags": null
          },
          "name": "stderr",
          "output_type": "stream",
          "text": [
            "Epoch 85/130: 100%|██████████| 286/286 [01:23<00:00,  3.41it/s, loss=0.00593]\n"
          ]
        },
        {
          "metadata": {
            "tags": null
          },
          "name": "stdout",
          "output_type": "stream",
          "text": [
            "\n",
            "Epoch 85/130 Completed | Avg Loss: 0.0060 | Recall@10: 0.1155 | NDCG@10: 0.7760\n",
            "\n"
          ]
        },
        {
          "metadata": {
            "tags": null
          },
          "name": "stderr",
          "output_type": "stream",
          "text": [
            "Epoch 86/130: 100%|██████████| 286/286 [01:23<00:00,  3.42it/s, loss=0.00689]\n"
          ]
        },
        {
          "metadata": {
            "tags": null
          },
          "name": "stdout",
          "output_type": "stream",
          "text": [
            "\n",
            "Epoch 86/130 Completed | Avg Loss: 0.0060 | Recall@10: 0.1154 | NDCG@10: 0.7760\n",
            "\n"
          ]
        },
        {
          "metadata": {
            "tags": null
          },
          "name": "stderr",
          "output_type": "stream",
          "text": [
            "Epoch 87/130: 100%|██████████| 286/286 [01:23<00:00,  3.41it/s, loss=0.00624]\n"
          ]
        },
        {
          "metadata": {
            "tags": null
          },
          "name": "stdout",
          "output_type": "stream",
          "text": [
            "\n",
            "Epoch 87/130 Completed | Avg Loss: 0.0060 | Recall@10: 0.1156 | NDCG@10: 0.7767\n",
            "\n"
          ]
        },
        {
          "metadata": {
            "tags": null
          },
          "name": "stderr",
          "output_type": "stream",
          "text": [
            "Epoch 88/130: 100%|██████████| 286/286 [01:23<00:00,  3.41it/s, loss=0.00574]\n"
          ]
        },
        {
          "metadata": {
            "tags": null
          },
          "name": "stdout",
          "output_type": "stream",
          "text": [
            "\n",
            "Epoch 88/130 Completed | Avg Loss: 0.0060 | Recall@10: 0.1158 | NDCG@10: 0.7771\n",
            "\n"
          ]
        },
        {
          "metadata": {
            "tags": null
          },
          "name": "stderr",
          "output_type": "stream",
          "text": [
            "Epoch 89/130: 100%|██████████| 286/286 [01:24<00:00,  3.40it/s, loss=0.00556]\n"
          ]
        },
        {
          "metadata": {
            "tags": null
          },
          "name": "stdout",
          "output_type": "stream",
          "text": [
            "\n",
            "Epoch 89/130 Completed | Avg Loss: 0.0060 | Recall@10: 0.1158 | NDCG@10: 0.7776\n",
            "\n"
          ]
        },
        {
          "metadata": {
            "tags": null
          },
          "name": "stderr",
          "output_type": "stream",
          "text": [
            "Epoch 90/130: 100%|██████████| 286/286 [01:23<00:00,  3.41it/s, loss=0.00631]\n"
          ]
        },
        {
          "metadata": {
            "tags": null
          },
          "name": "stdout",
          "output_type": "stream",
          "text": [
            "\n",
            "Epoch 90/130 Completed | Avg Loss: 0.0060 | Recall@10: 0.1157 | NDCG@10: 0.7768\n",
            "\n",
            "Checkpoint saved at /content/drive/MyDrive/CDAE_Checkpoints/cdae_checkpoint_epoch_90.pth\n"
          ]
        },
        {
          "metadata": {
            "tags": null
          },
          "name": "stderr",
          "output_type": "stream",
          "text": [
            "Epoch 91/130: 100%|██████████| 286/286 [01:25<00:00,  3.33it/s, loss=0.00577]\n"
          ]
        },
        {
          "metadata": {
            "tags": null
          },
          "name": "stdout",
          "output_type": "stream",
          "text": [
            "\n",
            "Epoch 91/130 Completed | Avg Loss: 0.0060 | Recall@10: 0.1159 | NDCG@10: 0.7778\n",
            "\n"
          ]
        },
        {
          "metadata": {
            "tags": null
          },
          "name": "stderr",
          "output_type": "stream",
          "text": [
            "Epoch 92/130: 100%|██████████| 286/286 [01:27<00:00,  3.27it/s, loss=0.0062]\n"
          ]
        },
        {
          "metadata": {
            "tags": null
          },
          "name": "stdout",
          "output_type": "stream",
          "text": [
            "\n",
            "Epoch 92/130 Completed | Avg Loss: 0.0060 | Recall@10: 0.1161 | NDCG@10: 0.7785\n",
            "\n"
          ]
        },
        {
          "output_type": "stream",
          "name": "stderr",
          "text": [
            "Epoch 93/130: 100%|██████████| 286/286 [01:26<00:00,  3.30it/s, loss=0.00597]\n"
          ]
        },
        {
          "output_type": "stream",
          "name": "stdout",
          "text": [
            "\n",
            "Epoch 93/130 Completed | Avg Loss: 0.0060 | Recall@10: 0.1161 | NDCG@10: 0.7785\n",
            "\n"
          ]
        },
        {
          "output_type": "stream",
          "name": "stderr",
          "text": [
            "Epoch 94/130: 100%|██████████| 286/286 [01:25<00:00,  3.36it/s, loss=0.00718]\n"
          ]
        },
        {
          "output_type": "stream",
          "name": "stdout",
          "text": [
            "\n",
            "Epoch 94/130 Completed | Avg Loss: 0.0060 | Recall@10: 0.1161 | NDCG@10: 0.7785\n",
            "\n"
          ]
        },
        {
          "output_type": "stream",
          "name": "stderr",
          "text": [
            "Epoch 95/130: 100%|██████████| 286/286 [01:24<00:00,  3.38it/s, loss=0.00591]\n"
          ]
        },
        {
          "output_type": "stream",
          "name": "stdout",
          "text": [
            "\n",
            "Epoch 95/130 Completed | Avg Loss: 0.0060 | Recall@10: 0.1161 | NDCG@10: 0.7788\n",
            "\n"
          ]
        },
        {
          "output_type": "stream",
          "name": "stderr",
          "text": [
            "Epoch 96/130: 100%|██████████| 286/286 [01:24<00:00,  3.38it/s, loss=0.00594]\n"
          ]
        },
        {
          "output_type": "stream",
          "name": "stdout",
          "text": [
            "\n",
            "Epoch 96/130 Completed | Avg Loss: 0.0060 | Recall@10: 0.1160 | NDCG@10: 0.7786\n",
            "\n"
          ]
        },
        {
          "output_type": "stream",
          "name": "stderr",
          "text": [
            "Epoch 97/130: 100%|██████████| 286/286 [01:24<00:00,  3.39it/s, loss=0.0077]\n"
          ]
        },
        {
          "output_type": "stream",
          "name": "stdout",
          "text": [
            "\n",
            "Epoch 97/130 Completed | Avg Loss: 0.0060 | Recall@10: 0.1162 | NDCG@10: 0.7791\n",
            "\n"
          ]
        },
        {
          "output_type": "stream",
          "name": "stderr",
          "text": [
            "Epoch 98/130: 100%|██████████| 286/286 [01:24<00:00,  3.37it/s, loss=0.00604]\n"
          ]
        },
        {
          "output_type": "stream",
          "name": "stdout",
          "text": [
            "\n",
            "Epoch 98/130 Completed | Avg Loss: 0.0060 | Recall@10: 0.1163 | NDCG@10: 0.7794\n",
            "\n"
          ]
        },
        {
          "output_type": "stream",
          "name": "stderr",
          "text": [
            "Epoch 99/130: 100%|██████████| 286/286 [01:24<00:00,  3.38it/s, loss=0.00587]\n"
          ]
        },
        {
          "output_type": "stream",
          "name": "stdout",
          "text": [
            "\n",
            "Epoch 99/130 Completed | Avg Loss: 0.0060 | Recall@10: 0.1163 | NDCG@10: 0.7793\n",
            "\n"
          ]
        },
        {
          "output_type": "stream",
          "name": "stderr",
          "text": [
            "Epoch 100/130: 100%|██████████| 286/286 [01:24<00:00,  3.38it/s, loss=0.00679]\n"
          ]
        },
        {
          "output_type": "stream",
          "name": "stdout",
          "text": [
            "\n",
            "Epoch 100/130 Completed | Avg Loss: 0.0060 | Recall@10: 0.1162 | NDCG@10: 0.7794\n",
            "\n"
          ]
        },
        {
          "output_type": "stream",
          "name": "stderr",
          "text": [
            "Epoch 101/130: 100%|██████████| 286/286 [01:24<00:00,  3.37it/s, loss=0.00537]\n"
          ]
        },
        {
          "output_type": "stream",
          "name": "stdout",
          "text": [
            "\n",
            "Epoch 101/130 Completed | Avg Loss: 0.0060 | Recall@10: 0.1164 | NDCG@10: 0.7797\n",
            "\n"
          ]
        },
        {
          "output_type": "stream",
          "name": "stderr",
          "text": [
            "Epoch 102/130: 100%|██████████| 286/286 [01:25<00:00,  3.34it/s, loss=0.00614]\n"
          ]
        },
        {
          "output_type": "stream",
          "name": "stdout",
          "text": [
            "\n",
            "Epoch 102/130 Completed | Avg Loss: 0.0060 | Recall@10: 0.1163 | NDCG@10: 0.7797\n",
            "\n"
          ]
        },
        {
          "output_type": "stream",
          "name": "stderr",
          "text": [
            "Epoch 103/130: 100%|██████████| 286/286 [01:25<00:00,  3.35it/s, loss=0.00593]\n"
          ]
        },
        {
          "output_type": "stream",
          "name": "stdout",
          "text": [
            "\n",
            "Epoch 103/130 Completed | Avg Loss: 0.0060 | Recall@10: 0.1163 | NDCG@10: 0.7797\n",
            "\n"
          ]
        },
        {
          "output_type": "stream",
          "name": "stderr",
          "text": [
            "Epoch 104/130: 100%|██████████| 286/286 [01:25<00:00,  3.36it/s, loss=0.00617]\n"
          ]
        },
        {
          "output_type": "stream",
          "name": "stdout",
          "text": [
            "\n",
            "Epoch 104/130 Completed | Avg Loss: 0.0060 | Recall@10: 0.1166 | NDCG@10: 0.7806\n",
            "\n"
          ]
        },
        {
          "output_type": "stream",
          "name": "stderr",
          "text": [
            "Epoch 105/130: 100%|██████████| 286/286 [01:25<00:00,  3.36it/s, loss=0.00583]\n"
          ]
        },
        {
          "output_type": "stream",
          "name": "stdout",
          "text": [
            "\n",
            "Epoch 105/130 Completed | Avg Loss: 0.0060 | Recall@10: 0.1165 | NDCG@10: 0.7806\n",
            "\n",
            "Checkpoint saved at /content/drive/MyDrive/CDAE_Checkpoints/cdae_checkpoint_epoch_105.pth\n"
          ]
        },
        {
          "output_type": "stream",
          "name": "stderr",
          "text": [
            "Epoch 106/130: 100%|██████████| 286/286 [01:25<00:00,  3.33it/s, loss=0.00635]\n"
          ]
        },
        {
          "output_type": "stream",
          "name": "stdout",
          "text": [
            "\n",
            "Epoch 106/130 Completed | Avg Loss: 0.0060 | Recall@10: 0.1166 | NDCG@10: 0.7807\n",
            "\n"
          ]
        },
        {
          "output_type": "stream",
          "name": "stderr",
          "text": [
            "Epoch 107/130: 100%|██████████| 286/286 [01:25<00:00,  3.36it/s, loss=0.00569]\n"
          ]
        },
        {
          "output_type": "stream",
          "name": "stdout",
          "text": [
            "\n",
            "Epoch 107/130 Completed | Avg Loss: 0.0060 | Recall@10: 0.1168 | NDCG@10: 0.7814\n",
            "\n"
          ]
        },
        {
          "output_type": "stream",
          "name": "stderr",
          "text": [
            "Epoch 108/130: 100%|██████████| 286/286 [01:25<00:00,  3.33it/s, loss=0.00571]\n"
          ]
        },
        {
          "output_type": "stream",
          "name": "stdout",
          "text": [
            "\n",
            "Epoch 108/130 Completed | Avg Loss: 0.0060 | Recall@10: 0.1168 | NDCG@10: 0.7814\n",
            "\n"
          ]
        },
        {
          "output_type": "stream",
          "name": "stderr",
          "text": [
            "Epoch 109/130: 100%|██████████| 286/286 [01:25<00:00,  3.36it/s, loss=0.00625]\n"
          ]
        },
        {
          "output_type": "stream",
          "name": "stdout",
          "text": [
            "\n",
            "Epoch 109/130 Completed | Avg Loss: 0.0060 | Recall@10: 0.1167 | NDCG@10: 0.7812\n",
            "\n"
          ]
        },
        {
          "output_type": "stream",
          "name": "stderr",
          "text": [
            "Epoch 110/130: 100%|██████████| 286/286 [01:25<00:00,  3.36it/s, loss=0.00609]\n"
          ]
        },
        {
          "output_type": "stream",
          "name": "stdout",
          "text": [
            "\n",
            "Epoch 110/130 Completed | Avg Loss: 0.0060 | Recall@10: 0.1168 | NDCG@10: 0.7813\n",
            "\n"
          ]
        },
        {
          "output_type": "stream",
          "name": "stderr",
          "text": [
            "Epoch 111/130: 100%|██████████| 286/286 [01:25<00:00,  3.34it/s, loss=0.00641]\n"
          ]
        },
        {
          "output_type": "stream",
          "name": "stdout",
          "text": [
            "\n",
            "Epoch 111/130 Completed | Avg Loss: 0.0060 | Recall@10: 0.1170 | NDCG@10: 0.7820\n",
            "\n"
          ]
        },
        {
          "output_type": "stream",
          "name": "stderr",
          "text": [
            "Epoch 112/130: 100%|██████████| 286/286 [01:25<00:00,  3.34it/s, loss=0.00566]\n"
          ]
        },
        {
          "output_type": "stream",
          "name": "stdout",
          "text": [
            "\n",
            "Epoch 112/130 Completed | Avg Loss: 0.0060 | Recall@10: 0.1169 | NDCG@10: 0.7821\n",
            "\n"
          ]
        },
        {
          "output_type": "stream",
          "name": "stderr",
          "text": [
            "Epoch 113/130: 100%|██████████| 286/286 [01:25<00:00,  3.36it/s, loss=0.00628]\n"
          ]
        },
        {
          "output_type": "stream",
          "name": "stdout",
          "text": [
            "\n",
            "Epoch 113/130 Completed | Avg Loss: 0.0060 | Recall@10: 0.1170 | NDCG@10: 0.7823\n",
            "\n"
          ]
        },
        {
          "output_type": "stream",
          "name": "stderr",
          "text": [
            "Epoch 114/130: 100%|██████████| 286/286 [01:24<00:00,  3.38it/s, loss=0.00713]\n"
          ]
        },
        {
          "output_type": "stream",
          "name": "stdout",
          "text": [
            "\n",
            "Epoch 114/130 Completed | Avg Loss: 0.0060 | Recall@10: 0.1169 | NDCG@10: 0.7819\n",
            "\n"
          ]
        },
        {
          "output_type": "stream",
          "name": "stderr",
          "text": [
            "Epoch 115/130: 100%|██████████| 286/286 [01:24<00:00,  3.39it/s, loss=0.00585]\n"
          ]
        },
        {
          "output_type": "stream",
          "name": "stdout",
          "text": [
            "\n",
            "Epoch 115/130 Completed | Avg Loss: 0.0060 | Recall@10: 0.1170 | NDCG@10: 0.7822\n",
            "\n"
          ]
        },
        {
          "output_type": "stream",
          "name": "stderr",
          "text": [
            "Epoch 116/130: 100%|██████████| 286/286 [01:25<00:00,  3.34it/s, loss=0.00583]\n"
          ]
        },
        {
          "output_type": "stream",
          "name": "stdout",
          "text": [
            "\n",
            "Epoch 116/130 Completed | Avg Loss: 0.0060 | Recall@10: 0.1170 | NDCG@10: 0.7824\n",
            "\n"
          ]
        },
        {
          "output_type": "stream",
          "name": "stderr",
          "text": [
            "Epoch 117/130: 100%|██████████| 286/286 [01:24<00:00,  3.37it/s, loss=0.00582]\n"
          ]
        },
        {
          "output_type": "stream",
          "name": "stdout",
          "text": [
            "\n",
            "Epoch 117/130 Completed | Avg Loss: 0.0060 | Recall@10: 0.1171 | NDCG@10: 0.7825\n",
            "\n"
          ]
        },
        {
          "output_type": "stream",
          "name": "stderr",
          "text": [
            "Epoch 118/130: 100%|██████████| 286/286 [01:24<00:00,  3.40it/s, loss=0.00563]\n"
          ]
        },
        {
          "output_type": "stream",
          "name": "stdout",
          "text": [
            "\n",
            "Epoch 118/130 Completed | Avg Loss: 0.0060 | Recall@10: 0.1171 | NDCG@10: 0.7829\n",
            "\n"
          ]
        },
        {
          "output_type": "stream",
          "name": "stderr",
          "text": [
            "Epoch 119/130: 100%|██████████| 286/286 [01:24<00:00,  3.39it/s, loss=0.00588]\n"
          ]
        },
        {
          "output_type": "stream",
          "name": "stdout",
          "text": [
            "\n",
            "Epoch 119/130 Completed | Avg Loss: 0.0060 | Recall@10: 0.1172 | NDCG@10: 0.7833\n",
            "\n"
          ]
        },
        {
          "output_type": "stream",
          "name": "stderr",
          "text": [
            "Epoch 120/130: 100%|██████████| 286/286 [01:24<00:00,  3.38it/s, loss=0.00652]\n"
          ]
        },
        {
          "output_type": "stream",
          "name": "stdout",
          "text": [
            "\n",
            "Epoch 120/130 Completed | Avg Loss: 0.0060 | Recall@10: 0.1172 | NDCG@10: 0.7829\n",
            "\n",
            "Checkpoint saved at /content/drive/MyDrive/CDAE_Checkpoints/cdae_checkpoint_epoch_120.pth\n"
          ]
        },
        {
          "output_type": "stream",
          "name": "stderr",
          "text": [
            "Epoch 121/130: 100%|██████████| 286/286 [01:26<00:00,  3.29it/s, loss=0.00527]\n"
          ]
        },
        {
          "output_type": "stream",
          "name": "stdout",
          "text": [
            "\n",
            "Epoch 121/130 Completed | Avg Loss: 0.0060 | Recall@10: 0.1173 | NDCG@10: 0.7835\n",
            "\n"
          ]
        },
        {
          "output_type": "stream",
          "name": "stderr",
          "text": [
            "Epoch 122/130: 100%|██████████| 286/286 [01:24<00:00,  3.39it/s, loss=0.00614]\n"
          ]
        },
        {
          "output_type": "stream",
          "name": "stdout",
          "text": [
            "\n",
            "Epoch 122/130 Completed | Avg Loss: 0.0060 | Recall@10: 0.1173 | NDCG@10: 0.7835\n",
            "\n"
          ]
        },
        {
          "output_type": "stream",
          "name": "stderr",
          "text": [
            "Epoch 123/130: 100%|██████████| 286/286 [01:24<00:00,  3.37it/s, loss=0.00569]\n"
          ]
        },
        {
          "output_type": "stream",
          "name": "stdout",
          "text": [
            "\n",
            "Epoch 123/130 Completed | Avg Loss: 0.0060 | Recall@10: 0.1174 | NDCG@10: 0.7838\n",
            "\n"
          ]
        },
        {
          "output_type": "stream",
          "name": "stderr",
          "text": [
            "Epoch 124/130: 100%|██████████| 286/286 [01:24<00:00,  3.38it/s, loss=0.00633]\n"
          ]
        },
        {
          "output_type": "stream",
          "name": "stdout",
          "text": [
            "\n",
            "Epoch 124/130 Completed | Avg Loss: 0.0060 | Recall@10: 0.1173 | NDCG@10: 0.7836\n",
            "\n"
          ]
        },
        {
          "output_type": "stream",
          "name": "stderr",
          "text": [
            "Epoch 125/130: 100%|██████████| 286/286 [01:24<00:00,  3.38it/s, loss=0.0061]\n"
          ]
        },
        {
          "output_type": "stream",
          "name": "stdout",
          "text": [
            "\n",
            "Epoch 125/130 Completed | Avg Loss: 0.0060 | Recall@10: 0.1174 | NDCG@10: 0.7839\n",
            "\n"
          ]
        },
        {
          "output_type": "stream",
          "name": "stderr",
          "text": [
            "Epoch 126/130: 100%|██████████| 286/286 [01:23<00:00,  3.41it/s, loss=0.00595]\n"
          ]
        },
        {
          "output_type": "stream",
          "name": "stdout",
          "text": [
            "\n",
            "Epoch 126/130 Completed | Avg Loss: 0.0060 | Recall@10: 0.1174 | NDCG@10: 0.7840\n",
            "\n"
          ]
        },
        {
          "output_type": "stream",
          "name": "stderr",
          "text": [
            "Epoch 127/130: 100%|██████████| 286/286 [01:24<00:00,  3.39it/s, loss=0.00516]\n"
          ]
        },
        {
          "output_type": "stream",
          "name": "stdout",
          "text": [
            "\n",
            "Epoch 127/130 Completed | Avg Loss: 0.0060 | Recall@10: 0.1174 | NDCG@10: 0.7838\n",
            "\n"
          ]
        },
        {
          "output_type": "stream",
          "name": "stderr",
          "text": [
            "Epoch 128/130: 100%|██████████| 286/286 [01:24<00:00,  3.39it/s, loss=0.00644]\n"
          ]
        },
        {
          "output_type": "stream",
          "name": "stdout",
          "text": [
            "\n",
            "Epoch 128/130 Completed | Avg Loss: 0.0060 | Recall@10: 0.1176 | NDCG@10: 0.7844\n",
            "\n"
          ]
        },
        {
          "output_type": "stream",
          "name": "stderr",
          "text": [
            "Epoch 129/130: 100%|██████████| 286/286 [01:24<00:00,  3.40it/s, loss=0.00573]\n"
          ]
        },
        {
          "output_type": "stream",
          "name": "stdout",
          "text": [
            "\n",
            "Epoch 129/130 Completed | Avg Loss: 0.0060 | Recall@10: 0.1175 | NDCG@10: 0.7843\n",
            "\n"
          ]
        },
        {
          "output_type": "stream",
          "name": "stderr",
          "text": [
            "Epoch 130/130: 100%|██████████| 286/286 [01:23<00:00,  3.40it/s, loss=0.00612]\n"
          ]
        },
        {
          "output_type": "stream",
          "name": "stdout",
          "text": [
            "\n",
            "Epoch 130/130 Completed | Avg Loss: 0.0060 | Recall@10: 0.1175 | NDCG@10: 0.7842\n",
            "\n",
            "Final model saved successfully at /content/drive/MyDrive/CDAE_Final_Model/cdae_final_model.pth\n"
          ]
        }
      ]
    },
    {
      "cell_type": "code",
      "source": [
        "# ===== Block 6: Final Full Evaluation (Recall/NDCG @ 10, 100, 500) =====\n",
        "\n",
        "import os\n",
        "import numpy as np\n",
        "\n",
        "# ===== Paths =====\n",
        "evaluation_result_path = '/content/drive/MyDrive/CDAE_Final_Model/final_evaluation_results.txt'\n",
        "\n",
        "# ===== Load Final Model (Optional, if you need) =====\n",
        "# (Assume model already loaded, trained and moved to eval mode)\n",
        "\n",
        "# ===== Define evaluation metrics (already defined if above) =====\n",
        "# recall_at_k and ndcg_at_k functions already exist\n",
        "\n",
        "# ===== Evaluate =====\n",
        "model.eval()\n",
        "recall_scores_10 = []\n",
        "ndcg_scores_10 = []\n",
        "recall_scores_100 = []\n",
        "ndcg_scores_100 = []\n",
        "recall_scores_500 = []\n",
        "ndcg_scores_500 = []\n",
        "\n",
        "with torch.no_grad():\n",
        "    for user_vectors, user_ids in validation_loader:\n",
        "        user_vectors = user_vectors.to(device)\n",
        "        user_ids = user_ids.squeeze().to(device)\n",
        "\n",
        "        outputs = model(user_vectors, user_ids)\n",
        "\n",
        "        recall_scores_10.append(recall_at_k(outputs, user_vectors, k=10))\n",
        "        ndcg_scores_10.append(ndcg_at_k(outputs, user_vectors, k=10))\n",
        "        recall_scores_100.append(recall_at_k(outputs, user_vectors, k=100))\n",
        "        ndcg_scores_100.append(ndcg_at_k(outputs, user_vectors, k=100))\n",
        "        recall_scores_500.append(recall_at_k(outputs, user_vectors, k=500))\n",
        "        ndcg_scores_500.append(ndcg_at_k(outputs, user_vectors, k=500))\n",
        "\n",
        "# ===== Mean Scores =====\n",
        "mean_recall_10 = np.mean(recall_scores_10)\n",
        "mean_ndcg_10 = np.mean(ndcg_scores_10)\n",
        "mean_recall_100 = np.mean(recall_scores_100)\n",
        "mean_ndcg_100 = np.mean(ndcg_scores_100)\n",
        "mean_recall_500 = np.mean(recall_scores_500)\n",
        "mean_ndcg_500 = np.mean(ndcg_scores_500)\n",
        "\n",
        "# ===== Save Results to Text File =====\n",
        "with open(evaluation_result_path, 'w') as f:\n",
        "    f.write(\"===== Final Evaluation Results =====\\n\")\n",
        "    f.write(f\"Recall@10: {mean_recall_10:.4f}\\n\")\n",
        "    f.write(f\"NDCG@10: {mean_ndcg_10:.4f}\\n\\n\")\n",
        "    f.write(f\"Recall@100: {mean_recall_100:.4f}\\n\")\n",
        "    f.write(f\"NDCG@100: {mean_ndcg_100:.4f}\\n\\n\")\n",
        "    f.write(f\"Recall@500: {mean_recall_500:.4f}\\n\")\n",
        "    f.write(f\"NDCG@500: {mean_ndcg_500:.4f}\\n\")\n",
        "\n",
        "print(f\"Evaluation completed! Results saved at: {evaluation_result_path}\")\n"
      ],
      "metadata": {
        "colab": {
          "base_uri": "https://localhost:8080/"
        },
        "id": "pRclS8IWXFUV",
        "outputId": "619de7f7-1670-4274-a120-1b8fbebe8b8d"
      },
      "execution_count": null,
      "outputs": [
        {
          "output_type": "stream",
          "name": "stdout",
          "text": [
            "Evaluation completed! Results saved at: /content/drive/MyDrive/CDAE_Final_Model/final_evaluation_results.txt\n"
          ]
        }
      ]
    },
    {
      "cell_type": "markdown",
      "source": [
        "Recommendation"
      ],
      "metadata": {
        "id": "wLpGGLUTjljU"
      }
    },
    {
      "cell_type": "code",
      "source": [
        "from google.colab import drive\n",
        "drive.mount('/content/drive')\n"
      ],
      "metadata": {
        "colab": {
          "base_uri": "https://localhost:8080/"
        },
        "id": "GuOk2m--YW4X",
        "outputId": "8b11fdde-a457-43d5-81b8-c3950e2a16fc"
      },
      "execution_count": null,
      "outputs": [
        {
          "output_type": "stream",
          "name": "stdout",
          "text": [
            "Mounted at /content/drive\n"
          ]
        }
      ]
    },
    {
      "cell_type": "code",
      "source": [
        "import torch\n",
        "import torch.nn as nn\n",
        "import numpy as np\n",
        "import pandas as pd\n",
        "import scipy.sparse as sparse\n",
        "import os\n"
      ],
      "metadata": {
        "id": "EEUJGRHqbl5z"
      },
      "execution_count": null,
      "outputs": []
    },
    {
      "cell_type": "code",
      "source": [
        "# ===== Setup Paths =====\n",
        "final_model_dir = '/content/drive/MyDrive/CDAE_Final_Model'\n",
        "movies_csv_path = os.path.join(final_model_dir, 'movies_backup.csv')  # Updated\n",
        "\n",
        "# ===== Load interaction matrix =====\n",
        "interaction_matrix = sparse.load_npz(os.path.join(final_model_dir, 'interaction_matrix.npz'))\n",
        "\n",
        "# ===== Load movie titles =====\n",
        "movies_df = pd.read_csv(movies_csv_path)\n",
        "\n",
        "# ===== Define Model Architecture (MATCHES TRAINING) =====\n",
        "class CDAE(nn.Module):\n",
        "    def __init__(self, num_users, num_items, embedding_dim=200, dropout_rate=0.5):  # Match\n",
        "        super(CDAE, self).__init__()\n",
        "        self.num_users = num_users\n",
        "        self.num_items = num_items\n",
        "        self.embedding_dim = embedding_dim\n",
        "\n",
        "        self.user_embedding = nn.Embedding(num_users, embedding_dim)\n",
        "        self.encoder = nn.Linear(num_items, embedding_dim)\n",
        "        self.decoder = nn.Linear(embedding_dim, num_items)\n",
        "        self.dropout = nn.Dropout(dropout_rate)\n",
        "\n",
        "    def forward(self, x, user_id):\n",
        "        user_emb = self.user_embedding(user_id)\n",
        "        x = self.dropout(x)\n",
        "        x = self.encoder(x)\n",
        "        x = x + user_emb\n",
        "        x = torch.sigmoid(x)\n",
        "        x = self.decoder(x)\n",
        "        x = torch.sigmoid(x)\n",
        "        return x\n",
        "\n",
        "# ===== Setup Device =====\n",
        "device = torch.device('cuda' if torch.cuda.is_available() else 'cpu')\n",
        "\n",
        "# ===== Initialize Correct Model =====\n",
        "num_users, num_items = interaction_matrix.shape\n",
        "model = CDAE(num_users=num_users, num_items=num_items, embedding_dim=200, dropout_rate=0.5).to(device)\n",
        "\n",
        "# ===== Load Saved Weights =====\n",
        "model_checkpoint = torch.load(os.path.join(final_model_dir, 'cdae_final_model.pth'), map_location=device)\n",
        "model.load_state_dict(model_checkpoint['model_state_dict'])\n",
        "model.eval()\n",
        "\n",
        "print(\"Model loaded successfully with correct architecture!\")\n"
      ],
      "metadata": {
        "colab": {
          "base_uri": "https://localhost:8080/"
        },
        "id": "lByCV0dXbdKR",
        "outputId": "b9df5dd4-d265-4849-8cf2-e09ade685cbe"
      },
      "execution_count": null,
      "outputs": [
        {
          "output_type": "stream",
          "name": "stdout",
          "text": [
            "Model loaded successfully with correct architecture!\n"
          ]
        }
      ]
    },
    {
      "cell_type": "code",
      "source": [
        "def recommend_movies(user_id, top_n=10):\n",
        "    \"\"\"\n",
        "    Recommend top N movies for a given user id.\n",
        "    \"\"\"\n",
        "    model.eval()\n",
        "    with torch.no_grad():\n",
        "        user_vector = interaction_matrix[user_id].toarray().flatten()\n",
        "        input_vector = torch.FloatTensor(user_vector).unsqueeze(0).to(device)\n",
        "        user_tensor = torch.LongTensor([user_id]).to(device)\n",
        "\n",
        "        predictions = model(input_vector, user_tensor)\n",
        "        scores = predictions.cpu().numpy().flatten()\n",
        "\n",
        "        # Filter out already watched movies\n",
        "        watched_items = np.where(user_vector > 0)[0]\n",
        "        scores[watched_items] = -np.inf  # Set watched movies score to -inf\n",
        "\n",
        "        top_indices = scores.argsort()[-top_n:][::-1]\n",
        "\n",
        "        recommended_titles = []\n",
        "        for idx in top_indices:\n",
        "            movie_id = idx\n",
        "            # Map back to movie title\n",
        "            movie_title = movies_df[movies_df['movie_encoded'] == movie_id]['title'].values\n",
        "            if len(movie_title) > 0:\n",
        "                recommended_titles.append(movie_title[0])\n",
        "\n",
        "        return recommended_titles\n"
      ],
      "metadata": {
        "id": "uqiBLeZXiQsJ"
      },
      "execution_count": null,
      "outputs": []
    },
    {
      "cell_type": "code",
      "source": [
        "# Recommend movies for a random user\n",
        "user_id = 123  # Example user within [0, num_users-1]\n",
        "recommended = recommend_movies(user_id, top_n=10)\n",
        "\n",
        "print(f\"\\nTop 10 recommended movies for User ID {user_id}:\\n\")\n",
        "for idx, title in enumerate(recommended, 1):\n",
        "    print(f\"{idx}. {title}\")\n"
      ],
      "metadata": {
        "colab": {
          "base_uri": "https://localhost:8080/"
        },
        "id": "J0G9L4M5iWDJ",
        "outputId": "fec06f70-4810-479b-d3ac-05b909a46970"
      },
      "execution_count": null,
      "outputs": [
        {
          "output_type": "stream",
          "name": "stdout",
          "text": [
            "\n",
            "Top 10 recommended movies for User ID 123:\n",
            "\n",
            "1. Murder, My Sweet (1944)\n",
            "2. Brother of Sleep (Schlafes Bruder) (1995)\n",
            "3. White Balloon, The (Badkonake sefid) (1995)\n",
            "4. Grace of My Heart (1996)\n",
            "5. Bed of Roses (1996)\n",
            "6. Die Hard (1988)\n",
            "7. Outlaw, The (1943)\n",
            "8. Beautiful Thing (1996)\n",
            "9. Dumbo (1941)\n",
            "10. Star Wars: Episode IV - A New Hope (1977)\n"
          ]
        }
      ]
    }
  ]
}